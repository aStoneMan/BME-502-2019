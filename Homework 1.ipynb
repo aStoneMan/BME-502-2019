{
 "cells": [
  {
   "cell_type": "markdown",
   "metadata": {},
   "source": [
    "# Homework 1\n",
    "due 2/18/2019 at 5:30pm"
   ]
  },
  {
   "cell_type": "code",
   "execution_count": 2,
   "metadata": {},
   "outputs": [],
   "source": [
    "# Assignment 1:\n",
    "# write a function that returns a list of Fibonacci numbers that are smaller then a given value\n",
    "def fibonacci_upto(max_value):\n",
    "    #write your code here\n",
    "    return list_of_fibonacci_numbers"
   ]
  },
  {
   "cell_type": "code",
   "execution_count": 3,
   "metadata": {},
   "outputs": [],
   "source": [
    "# Assignment 2:\n",
    "# calculate the sum of even Fibonacci numbers whose values do not exceed four million"
   ]
  },
  {
   "cell_type": "code",
   "execution_count": 5,
   "metadata": {},
   "outputs": [],
   "source": [
    "# Assignment 3:\n",
    "# write a function that flattens a list:\n",
    "# input: nested list of integers\n",
    "# output: flattened list\n",
    "#flat_list([1, 2, 3]) == [1, 2, 3]\n",
    "#flat_list([1, [2, 2, 2], 4]) == [1, 2, 2, 2, 4]\n",
    "#flat_list([[[2]], [4, [5, 6, [6], 6, 6, 6], 7]]) == [2, 4, 5, 6, 6, 6, 6, 6, 7]\n",
    "#flat_list([-1, [1, [-2], 1], -1]) == [-1, 1, -2, 1, -1]\n",
    "def flat_list(l):\n",
    "    return flattened_list"
   ]
  },
  {
   "cell_type": "code",
   "execution_count": 6,
   "metadata": {},
   "outputs": [],
   "source": [
    "# Assignment 4:\n",
    "# You are given a non-empty list of integers (X).\n",
    "# For this task, you should return a list consisting of only the non-unique elements in this list.\n",
    "# To do so you will need to remove all unique elements (elements which are contained in a given list only once).\n",
    "# When solving this task, do not change the order of the list.\n",
    "# Example: [1, 2, 3, 1, 3] 1 and 3 non-unique elements and result will be [1, 3, 1, 3].\n",
    "#checkio([1, 2, 3, 1, 3]) == [1, 3, 1, 3]\n",
    "#checkio([1, 2, 3, 4, 5]) == []\n",
    "#checkio([5, 5, 5, 5, 5]) == [5, 5, 5, 5, 5]\n",
    "#checkio([10, 9, 10, 10, 9, 8]) == [10, 9, 10, 10, 9]\n",
    "def checkio(l):\n",
    "    return list_non_unique"
   ]
  },
  {
   "cell_type": "code",
   "execution_count": null,
   "metadata": {},
   "outputs": [],
   "source": []
  }
 ],
 "metadata": {
  "kernelspec": {
   "display_name": "Python 3",
   "language": "python",
   "name": "python3"
  },
  "language_info": {
   "codemirror_mode": {
    "name": "ipython",
    "version": 3
   },
   "file_extension": ".py",
   "mimetype": "text/x-python",
   "name": "python",
   "nbconvert_exporter": "python",
   "pygments_lexer": "ipython3",
   "version": "3.6.6"
  }
 },
 "nbformat": 4,
 "nbformat_minor": 2
}
