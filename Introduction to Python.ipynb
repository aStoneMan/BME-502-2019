{
 "cells": [
  {
   "cell_type": "markdown",
   "metadata": {},
   "source": [
    "# Introduction to Python 3"
   ]
  },
  {
   "cell_type": "code",
   "execution_count": 1,
   "metadata": {},
   "outputs": [
    {
     "name": "stdout",
     "output_type": "stream",
     "text": [
      "Hello BME 502\n"
     ]
    }
   ],
   "source": [
    "# Hello world\n",
    "print(\"Hello BME 502\")"
   ]
  },
  {
   "cell_type": "code",
   "execution_count": 2,
   "metadata": {},
   "outputs": [
    {
     "name": "stdout",
     "output_type": "stream",
     "text": [
      "<class 'int'>\n"
     ]
    }
   ],
   "source": [
    "# Python is weakly typed, which means that you do not need to specify a veriable's type before using it\n",
    "a = 1\n",
    "print(type(a))"
   ]
  },
  {
   "cell_type": "code",
   "execution_count": 3,
   "metadata": {},
   "outputs": [
    {
     "name": "stdout",
     "output_type": "stream",
     "text": [
      "<class 'float'>\n"
     ]
    }
   ],
   "source": [
    "# same example but with a float\n",
    "b =1.2\n",
    "print(type(b))"
   ]
  },
  {
   "cell_type": "code",
   "execution_count": 4,
   "metadata": {},
   "outputs": [
    {
     "name": "stdout",
     "output_type": "stream",
     "text": [
      "1 \n",
      "2 \n",
      "3 fizz\n",
      "4 \n",
      "5 buzz\n",
      "6 fizz\n",
      "7 \n",
      "8 \n",
      "9 fizz\n",
      "10 buzz\n",
      "11 \n",
      "12 fizz\n",
      "13 \n",
      "14 \n",
      "15 fizzbuzz\n",
      "16 \n",
      "17 \n",
      "18 fizz\n",
      "19 \n",
      "20 buzz\n",
      "21 fizz\n",
      "22 \n",
      "23 \n",
      "24 fizz\n",
      "25 buzz\n",
      "26 \n",
      "27 fizz\n",
      "28 \n",
      "29 \n",
      "30 fizzbuzz\n",
      "31 \n",
      "32 \n",
      "33 fizz\n",
      "34 \n",
      "35 buzz\n",
      "36 fizz\n",
      "37 \n",
      "38 \n",
      "39 fizz\n",
      "40 buzz\n",
      "41 \n",
      "42 fizz\n",
      "43 \n",
      "44 \n",
      "45 fizzbuzz\n",
      "46 \n",
      "47 \n",
      "48 fizz\n",
      "49 \n",
      "50 buzz\n",
      "51 fizz\n",
      "52 \n",
      "53 \n",
      "54 fizz\n",
      "55 buzz\n",
      "56 \n",
      "57 fizz\n",
      "58 \n",
      "59 \n",
      "60 fizzbuzz\n",
      "61 \n",
      "62 \n",
      "63 fizz\n",
      "64 \n",
      "65 buzz\n",
      "66 fizz\n",
      "67 \n",
      "68 \n",
      "69 fizz\n",
      "70 buzz\n",
      "71 \n",
      "72 fizz\n",
      "73 \n",
      "74 \n",
      "75 fizzbuzz\n",
      "76 \n",
      "77 \n",
      "78 fizz\n",
      "79 \n",
      "80 buzz\n",
      "81 fizz\n",
      "82 \n",
      "83 \n",
      "84 fizz\n",
      "85 buzz\n",
      "86 \n",
      "87 fizz\n",
      "88 \n",
      "89 \n",
      "90 fizzbuzz\n",
      "91 \n",
      "92 \n",
      "93 fizz\n",
      "94 \n",
      "95 buzz\n",
      "96 fizz\n",
      "97 \n",
      "98 \n",
      "99 fizz\n",
      "100 buzz\n"
     ]
    }
   ],
   "source": [
    "# fizzbuzz example\n",
    "# print numbers from 1-100 and\n",
    "# print next to it\n",
    "# fizz if divisible by 3\n",
    "# buzz if divisibly by 5\n",
    "# fizzbuzz of divisible by 3 and 5\n",
    "for i in range(1,101):\n",
    "    print(i,end=\" \")\n",
    "    if (i%3==0) and (i%5==0):\n",
    "        print(\"fizzbuzz\")\n",
    "    elif (i%3==0):\n",
    "        print(\"fizz\")\n",
    "    elif (i%5==0):\n",
    "        print(\"buzz\")\n",
    "    else:\n",
    "        print()\n",
    "    \n"
   ]
  },
  {
   "cell_type": "code",
   "execution_count": 5,
   "metadata": {},
   "outputs": [
    {
     "name": "stdout",
     "output_type": "stream",
     "text": [
      "1\n",
      "3.2\n",
      "hi\n"
     ]
    }
   ],
   "source": [
    "# a very important data type in python are lists\n",
    "# lists can contain any objects, even other lists\n",
    "l = [1,3.2,\"hi\"]\n",
    "# for loops can interate over lists\n",
    "for item in l:\n",
    "    print(item)"
   ]
  },
  {
   "cell_type": "code",
   "execution_count": 6,
   "metadata": {},
   "outputs": [
    {
     "name": "stdout",
     "output_type": "stream",
     "text": [
      "2\n",
      "6.4\n",
      "hihi\n"
     ]
    }
   ],
   "source": [
    "# python is very flexible with data types.  For example the following works\n",
    "# as you can see the operator \"*\" means different things for different data types\n",
    "for item in l:\n",
    "    print(item*2)"
   ]
  },
  {
   "cell_type": "code",
   "execution_count": 7,
   "metadata": {},
   "outputs": [
    {
     "data": {
      "text/plain": [
       "[1, 3.2, 'hi']"
      ]
     },
     "execution_count": 7,
     "metadata": {},
     "output_type": "execute_result"
    }
   ],
   "source": [
    "l"
   ]
  },
  {
   "cell_type": "code",
   "execution_count": 10,
   "metadata": {},
   "outputs": [
    {
     "data": {
      "text/plain": [
       "'hi'"
      ]
     },
     "execution_count": 10,
     "metadata": {},
     "output_type": "execute_result"
    }
   ],
   "source": [
    "l[2]"
   ]
  },
  {
   "cell_type": "code",
   "execution_count": 11,
   "metadata": {},
   "outputs": [],
   "source": [
    "l2 = [1,[2,4],'hi']"
   ]
  },
  {
   "cell_type": "code",
   "execution_count": 14,
   "metadata": {},
   "outputs": [
    {
     "data": {
      "text/plain": [
       "2"
      ]
     },
     "execution_count": 14,
     "metadata": {},
     "output_type": "execute_result"
    }
   ],
   "source": [
    "l2[1][0]"
   ]
  },
  {
   "cell_type": "code",
   "execution_count": 15,
   "metadata": {},
   "outputs": [
    {
     "name": "stdout",
     "output_type": "stream",
     "text": [
      "1\n",
      "[2, 4]\n",
      "hi\n"
     ]
    }
   ],
   "source": [
    "for item in l2:\n",
    "    print(item)"
   ]
  },
  {
   "cell_type": "code",
   "execution_count": 16,
   "metadata": {},
   "outputs": [
    {
     "name": "stdout",
     "output_type": "stream",
     "text": [
      "[1, 8, 27, 64, 125, 216, 343, 512, 729, 1000]\n"
     ]
    }
   ],
   "source": [
    "l3 = []\n",
    "for i in range(1,11):\n",
    "    l3.append(i**3)\n",
    "print(l3)"
   ]
  },
  {
   "cell_type": "code",
   "execution_count": 17,
   "metadata": {},
   "outputs": [
    {
     "name": "stdout",
     "output_type": "stream",
     "text": [
      "[1, 8, 27, 64, 125, 216, 343, 512, 729, 1000]\n"
     ]
    }
   ],
   "source": [
    "l3 = [i**3 for i in range(1,11)]\n",
    "print(l3)"
   ]
  },
  {
   "cell_type": "code",
   "execution_count": 20,
   "metadata": {},
   "outputs": [
    {
     "name": "stdout",
     "output_type": "stream",
     "text": [
      "[1, 1, 2, 3, 5, 8, 13, 21, 34, 55]\n"
     ]
    }
   ],
   "source": [
    "def fibonacci(n):\n",
    "    if n==1:\n",
    "        return [1]\n",
    "    fib_list = [1,1]\n",
    "    for i in range(n-2):\n",
    "        next_fib = fib_list[-1] + fib_list[-2]\n",
    "        fib_list.append(next_fib)\n",
    "    return fib_list\n",
    "print(fibonacci(10))"
   ]
  },
  {
   "cell_type": "code",
   "execution_count": 21,
   "metadata": {},
   "outputs": [
    {
     "name": "stdout",
     "output_type": "stream",
     "text": [
      "[1]\n"
     ]
    }
   ],
   "source": [
    "print(fibonacci(1))"
   ]
  },
  {
   "cell_type": "code",
   "execution_count": null,
   "metadata": {},
   "outputs": [],
   "source": []
  }
 ],
 "metadata": {
  "kernelspec": {
   "display_name": "Python 3",
   "language": "python",
   "name": "python3"
  },
  "language_info": {
   "codemirror_mode": {
    "name": "ipython",
    "version": 3
   },
   "file_extension": ".py",
   "mimetype": "text/x-python",
   "name": "python",
   "nbconvert_exporter": "python",
   "pygments_lexer": "ipython3",
   "version": "3.7.0"
  }
 },
 "nbformat": 4,
 "nbformat_minor": 2
}
